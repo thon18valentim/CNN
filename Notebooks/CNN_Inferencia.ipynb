{
  "nbformat": 4,
  "nbformat_minor": 0,
  "metadata": {
    "colab": {
      "provenance": []
    },
    "kernelspec": {
      "name": "python3",
      "display_name": "Python 3"
    },
    "language_info": {
      "name": "python"
    }
  },
  "cells": [
    {
      "cell_type": "code",
      "execution_count": null,
      "metadata": {
        "id": "HSDZhNoDMkqe"
      },
      "outputs": [],
      "source": [
        "import tensorflow as tf\n",
        "import numpy as np\n",
        "import cv2\n",
        "from tensorflow.keras.models import load_model\n",
        "from PIL import Image\n",
        "from google.colab import drive"
      ]
    },
    {
      "cell_type": "code",
      "source": [
        "drive.mount('/content/drive')"
      ],
      "metadata": {
        "colab": {
          "base_uri": "https://localhost:8080/"
        },
        "id": "Au98RRDuN_EJ",
        "outputId": "9971d54d-aada-4e7e-d4ff-939a52f74558"
      },
      "execution_count": null,
      "outputs": [
        {
          "output_type": "stream",
          "name": "stdout",
          "text": [
            "Mounted at /content/drive\n"
          ]
        }
      ]
    },
    {
      "cell_type": "code",
      "source": [
        "# Carregar o modelo treinado\n",
        "model = load_model('/content/drive/MyDrive/Colab Notebooks/cnn_modelo_trab.h5')"
      ],
      "metadata": {
        "id": "VhMOZlAKMwqh"
      },
      "execution_count": null,
      "outputs": []
    },
    {
      "cell_type": "code",
      "source": [
        "# Carregando imagem\n",
        "image = cv2.imread('/content/drive/MyDrive/Colab Notebooks/Images/Testing/chokeberry_15.jpg')\n",
        "image_rgb = cv2.cvtColor(image, cv2.COLOR_BGR2RGB)\n",
        "# Preprocess the image (resize, normalize, etc.)\n",
        "target_size = (224, 224)\n",
        "image_resized = cv2.resize(image_rgb, target_size)\n",
        "image_normalized = image_resized / 255.0\n",
        "\n",
        "# Expand dimensions to match the input shape of the model\n",
        "input_image = np.expand_dims(image_normalized, axis=0)\n",
        "\n",
        "# Perform inference\n",
        "predictions = model.predict(input_image)\n",
        "\n",
        "# Get the predicted class index\n",
        "predicted_class_index = np.argmax(predictions)\n",
        "\n",
        "# Get the predicted class label\n",
        "class_labels = ['barberry', 'bayberry', 'beach plum', 'bearberry', 'black berry', 'black cherry', 'blueberry', 'ceylon gooseberry', 'chokeberry', 'crowberry']\n",
        "predicted_class_label = class_labels[predicted_class_index]\n",
        "\n",
        "# Print the predicted class label\n",
        "print(\"Predicted class:\", predicted_class_label)"
      ],
      "metadata": {
        "colab": {
          "base_uri": "https://localhost:8080/"
        },
        "id": "n0UUjjEvMqjx",
        "outputId": "ee124dc0-9e32-4295-a46f-890b3ab9a662"
      },
      "execution_count": null,
      "outputs": [
        {
          "output_type": "stream",
          "name": "stdout",
          "text": [
            "1/1 [==============================] - 0s 35ms/step\n",
            "Predicted class: chokeberry\n"
          ]
        }
      ]
    }
  ]
}