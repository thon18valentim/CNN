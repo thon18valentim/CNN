{
  "nbformat": 4,
  "nbformat_minor": 0,
  "metadata": {
    "colab": {
      "provenance": []
    },
    "kernelspec": {
      "name": "python3",
      "display_name": "Python 3"
    },
    "language_info": {
      "name": "python"
    }
  },
  "cells": [
    {
      "cell_type": "code",
      "execution_count": null,
      "metadata": {
        "id": "HSDZhNoDMkqe"
      },
      "outputs": [],
      "source": [
        "import tensorflow as tf\n",
        "import numpy as np\n",
        "from tensorflow.keras.models import load_model\n",
        "from PIL import Image\n",
        "from google.colab import drive"
      ]
    },
    {
      "cell_type": "code",
      "source": [
        "drive.mount('/content/drive')"
      ],
      "metadata": {
        "colab": {
          "base_uri": "https://localhost:8080/"
        },
        "id": "Au98RRDuN_EJ",
        "outputId": "db0ed0a6-7e3b-4c9b-b527-ac5e24179a27"
      },
      "execution_count": null,
      "outputs": [
        {
          "output_type": "stream",
          "name": "stdout",
          "text": [
            "Drive already mounted at /content/drive; to attempt to forcibly remount, call drive.mount(\"/content/drive\", force_remount=True).\n"
          ]
        }
      ]
    },
    {
      "cell_type": "code",
      "source": [
        "# Carregar o modelo treinado\n",
        "model = load_model('/content/drive/MyDrive/CNN_SOURCE/Modelos/cnn_modelo_resnet.h5')"
      ],
      "metadata": {
        "id": "VhMOZlAKMwqh"
      },
      "execution_count": null,
      "outputs": []
    },
    {
      "cell_type": "code",
      "source": [
        "# Carregando imagem\n",
        "image_path = '/content/drive/MyDrive/CNN_SOURCE/Validation/Validation/black_berry_443.jpg'\n",
        "image = Image.open(image_path)\n",
        "image = image.resize((224, 224))\n",
        "image = np.array(image) / 255.0\n",
        "\n",
        "# Realizar a inferência\n",
        "input_image = np.expand_dims(image, axis=0)\n",
        "predictions = model.predict(input_image)\n",
        "predicted_class = np.argmax(predictions[0])\n",
        "\n",
        "print('Classe prevista:', predicted_class)"
      ],
      "metadata": {
        "colab": {
          "base_uri": "https://localhost:8080/"
        },
        "id": "n0UUjjEvMqjx",
        "outputId": "9f2771af-e730-463a-e3e7-0a9b9a6e21af"
      },
      "execution_count": null,
      "outputs": [
        {
          "output_type": "stream",
          "name": "stdout",
          "text": [
            "1/1 [==============================] - 1s 1s/step\n",
            "Classe prevista: 4\n"
          ]
        }
      ]
    }
  ]
}