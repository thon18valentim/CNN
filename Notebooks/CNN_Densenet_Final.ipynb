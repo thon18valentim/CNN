{
  "nbformat": 4,
  "nbformat_minor": 0,
  "metadata": {
    "colab": {
      "provenance": [],
      "gpuType": "T4"
    },
    "kernelspec": {
      "name": "python3",
      "display_name": "Python 3"
    },
    "language_info": {
      "name": "python"
    },
    "accelerator": "GPU"
  },
  "cells": [
    {
      "cell_type": "markdown",
      "source": [
        "# Dependências"
      ],
      "metadata": {
        "id": "HrutT_LP9H4G"
      }
    },
    {
      "cell_type": "code",
      "execution_count": 1,
      "metadata": {
        "id": "98Y7brK121Px"
      },
      "outputs": [],
      "source": [
        "import tensorflow as tf\n",
        "from tensorflow.keras.utils import to_categorical\n",
        "\n",
        "import os\n",
        "from google.colab import drive\n",
        "import cv2\n",
        "import numpy as np\n",
        "import matplotlib.pyplot as plt"
      ]
    },
    {
      "cell_type": "markdown",
      "source": [
        "# Setup"
      ],
      "metadata": {
        "id": "pBqexHte9K9F"
      }
    },
    {
      "cell_type": "code",
      "source": [
        "drive.mount('/content/drive')"
      ],
      "metadata": {
        "colab": {
          "base_uri": "https://localhost:8080/"
        },
        "id": "4XpPIqPC3BmL",
        "outputId": "2d73fbdc-c4f8-43f9-8832-a2616d532b71"
      },
      "execution_count": 2,
      "outputs": [
        {
          "output_type": "stream",
          "name": "stdout",
          "text": [
            "Mounted at /content/drive\n"
          ]
        }
      ]
    },
    {
      "cell_type": "markdown",
      "source": [
        "# Carregando & Separando Imagens"
      ],
      "metadata": {
        "id": "OZhwC4Lm9Nh9"
      }
    },
    {
      "cell_type": "code",
      "source": [
        "imagesTesting = []\n",
        "labelsTesting = []\n",
        "imagesTraining = []\n",
        "labelsTraining = []\n",
        "classLabels = ['barberry', 'bayberry', 'beach plum', 'bearberry', 'black berry', 'black cherry', 'blueberry', 'ceylon gooseberry', 'chokeberry', 'crowberry']\n",
        "\n",
        "target_size = (224, 224)\n",
        "\n",
        "\n",
        "def readTestingImages(i):\n",
        "    os.chdir('/content/drive/MyDrive/CNN_SOURCE/Testing/Testing')\n",
        "\n",
        "    for filename in os.listdir():\n",
        "        if filename.endswith(\".jpg\") or filename.endswith(\".png\"):\n",
        "            # Read Image\n",
        "            image = cv2.imread(filename)\n",
        "            image_rgb = cv2.cvtColor(image, cv2.COLOR_BGR2RGB)\n",
        "\n",
        "            # Resize the image\n",
        "            image_resized = cv2.resize(image_rgb, target_size)\n",
        "\n",
        "            # Normalize the image\n",
        "            image_normalized = image_resized / 255.0\n",
        "\n",
        "            if i < 150:\n",
        "              imagesTesting.append(image_normalized)\n",
        "\n",
        "            # Extract label from filename\n",
        "            labels = filename.rsplit(\"_\", 1)\n",
        "            label = labels[0].replace('_', ' ')\n",
        "\n",
        "            # Get the index of the label in classLabels\n",
        "            label_index = classLabels.index(label)\n",
        "\n",
        "            if i < 150:\n",
        "              labelsTesting.append(label_index)\n",
        "\n",
        "            i += 1\n",
        "            if i == 200:\n",
        "              i = 0\n",
        "\n",
        "i = 1\n",
        "def readTrainingImages(i):\n",
        "    os.chdir('/content/drive/MyDrive/CNN_SOURCE/Training/Training')\n",
        "\n",
        "    for filename in os.listdir():\n",
        "        if filename.endswith(\".jpg\") or filename.endswith(\".png\"):\n",
        "            # Read Image\n",
        "            image = cv2.imread(filename)\n",
        "            image_rgb = cv2.cvtColor(image, cv2.COLOR_BGR2RGB)\n",
        "\n",
        "            # Resize the image\n",
        "            image_resized = cv2.resize(image_rgb, target_size)\n",
        "\n",
        "            # Normalize the image\n",
        "            image_normalized = image_resized / 255.0\n",
        "\n",
        "            if i < 50:\n",
        "              imagesTraining.append(image_normalized)\n",
        "\n",
        "            # Extract label from filename\n",
        "            labels = filename.rsplit(\"_\", 1)\n",
        "            label = labels[0].replace('_', ' ')\n",
        "\n",
        "            # Get the index of the label in classLabels\n",
        "            label_index = classLabels.index(label)\n",
        "\n",
        "            if i < 50:\n",
        "              labelsTraining.append(label_index)\n",
        "\n",
        "            i += 1\n",
        "            if i == 200:\n",
        "              i = 0\n",
        "\n",
        "readTestingImages(1)\n",
        "readTrainingImages(1)"
      ],
      "metadata": {
        "id": "KiUbF6ms27nb"
      },
      "execution_count": 3,
      "outputs": []
    },
    {
      "cell_type": "markdown",
      "source": [
        "# Preparação dos Conjuntos Treino & Teste"
      ],
      "metadata": {
        "id": "WrQoqT0h9R_t"
      }
    },
    {
      "cell_type": "code",
      "source": [
        "imagesTraining = np.array(imagesTraining).astype('float32')\n",
        "imagesTesting = np.array(imagesTesting).astype('float32')\n",
        "imagesTraining /= 255.0\n",
        "imagesTesting /= 255.0\n",
        "\n",
        "num_classes = 10\n",
        "\n",
        "labelsTraining = np.array(labelsTraining)\n",
        "labelsTraining = to_categorical(labelsTraining, num_classes)\n",
        "labelsTesting = np.array(labelsTesting)\n",
        "labelsTesting = to_categorical(labelsTesting, num_classes)"
      ],
      "metadata": {
        "id": "R7aD_7FZ3WJj"
      },
      "execution_count": 4,
      "outputs": []
    },
    {
      "cell_type": "markdown",
      "source": [
        "# Arquitetando o Densenet"
      ],
      "metadata": {
        "id": "JJA2fkKG9ctt"
      }
    },
    {
      "cell_type": "code",
      "source": [
        "input_shape = imagesTraining[0].shape\n",
        "\n",
        "base_model = tf.keras.applications.DenseNet121(\n",
        "    include_top=False,\n",
        "    weights='imagenet',\n",
        "    input_shape=input_shape,\n",
        "    pooling='avg',\n",
        ")\n",
        "\n",
        "for layer in base_model.layers:\n",
        "    layer.trainable = False\n",
        "\n",
        "x = base_model.output\n",
        "x = tf.keras.layers.Dense(256, activation='relu')(x)\n",
        "x = tf.keras.layers.Dropout(0.5)(x)\n",
        "predictions = tf.keras.layers.Dense(10, activation='softmax')(x)\n",
        "\n",
        "model = tf.keras.models.Model(inputs=base_model.input, outputs=predictions)"
      ],
      "metadata": {
        "id": "GazUkHn-3I9E",
        "colab": {
          "base_uri": "https://localhost:8080/"
        },
        "outputId": "343e7f7e-6280-4da1-96af-6377ed009ab7"
      },
      "execution_count": 5,
      "outputs": [
        {
          "output_type": "stream",
          "name": "stdout",
          "text": [
            "Downloading data from https://storage.googleapis.com/tensorflow/keras-applications/densenet/densenet121_weights_tf_dim_ordering_tf_kernels_notop.h5\n",
            "29084464/29084464 [==============================] - 0s 0us/step\n"
          ]
        }
      ]
    },
    {
      "cell_type": "markdown",
      "source": [
        "# Compilando & Treinando Modelo"
      ],
      "metadata": {
        "id": "Pr3IQ-vm9gj8"
      }
    },
    {
      "cell_type": "code",
      "source": [
        "optimizer = tf.keras.optimizers.Adam(learning_rate=0.001)\n",
        "model.compile(optimizer='adam', loss='categorical_crossentropy', metrics=['accuracy'])\n",
        "history = model.fit(imagesTraining, labelsTraining, epochs=30, validation_data=(imagesTesting, labelsTesting))"
      ],
      "metadata": {
        "colab": {
          "base_uri": "https://localhost:8080/"
        },
        "id": "2HDIH7zs3QiL",
        "outputId": "09fbc87b-c455-4962-8068-2e871b38bdc9"
      },
      "execution_count": 6,
      "outputs": [
        {
          "output_type": "stream",
          "name": "stdout",
          "text": [
            "Epoch 1/30\n",
            "16/16 [==============================] - 112s 2s/step - loss: 1.8845 - accuracy: 0.4040 - val_loss: 4.2328 - val_accuracy: 0.1000\n",
            "Epoch 2/30\n",
            "16/16 [==============================] - 10s 608ms/step - loss: 1.1229 - accuracy: 0.6460 - val_loss: 4.9363 - val_accuracy: 0.1000\n",
            "Epoch 3/30\n",
            "16/16 [==============================] - 10s 677ms/step - loss: 0.6726 - accuracy: 0.7980 - val_loss: 5.3528 - val_accuracy: 0.1000\n",
            "Epoch 4/30\n",
            "16/16 [==============================] - 11s 683ms/step - loss: 0.5465 - accuracy: 0.8160 - val_loss: 5.3978 - val_accuracy: 0.1000\n",
            "Epoch 5/30\n",
            "16/16 [==============================] - 11s 684ms/step - loss: 0.5860 - accuracy: 0.8260 - val_loss: 3.4320 - val_accuracy: 0.1000\n",
            "Epoch 6/30\n",
            "16/16 [==============================] - 10s 642ms/step - loss: 0.6263 - accuracy: 0.8240 - val_loss: 3.0172 - val_accuracy: 0.1000\n",
            "Epoch 7/30\n",
            "16/16 [==============================] - 10s 638ms/step - loss: 0.4825 - accuracy: 0.8740 - val_loss: 3.0916 - val_accuracy: 0.1000\n",
            "Epoch 8/30\n",
            "16/16 [==============================] - 11s 689ms/step - loss: 0.3383 - accuracy: 0.9040 - val_loss: 5.6519 - val_accuracy: 0.1000\n",
            "Epoch 9/30\n",
            "16/16 [==============================] - 11s 682ms/step - loss: 0.2909 - accuracy: 0.9100 - val_loss: 2.8999 - val_accuracy: 0.1000\n",
            "Epoch 10/30\n",
            "16/16 [==============================] - 11s 679ms/step - loss: 0.2614 - accuracy: 0.9140 - val_loss: 2.6223 - val_accuracy: 0.1000\n",
            "Epoch 11/30\n",
            "16/16 [==============================] - 11s 679ms/step - loss: 0.4249 - accuracy: 0.8940 - val_loss: 3.0609 - val_accuracy: 0.1000\n",
            "Epoch 12/30\n",
            "16/16 [==============================] - 10s 631ms/step - loss: 0.3135 - accuracy: 0.8980 - val_loss: 18.3239 - val_accuracy: 0.1000\n",
            "Epoch 13/30\n",
            "16/16 [==============================] - 10s 638ms/step - loss: 0.3043 - accuracy: 0.8980 - val_loss: 2.8034 - val_accuracy: 0.1000\n",
            "Epoch 14/30\n",
            "16/16 [==============================] - 11s 684ms/step - loss: 0.2094 - accuracy: 0.9340 - val_loss: 2.7170 - val_accuracy: 0.1000\n",
            "Epoch 15/30\n",
            "16/16 [==============================] - 11s 685ms/step - loss: 0.2254 - accuracy: 0.9400 - val_loss: 3.1742 - val_accuracy: 0.1000\n",
            "Epoch 16/30\n",
            "16/16 [==============================] - 10s 635ms/step - loss: 0.2076 - accuracy: 0.9480 - val_loss: 4.0845 - val_accuracy: 0.1000\n",
            "Epoch 17/30\n",
            "16/16 [==============================] - 11s 703ms/step - loss: 0.1812 - accuracy: 0.9500 - val_loss: 4.0938 - val_accuracy: 0.1000\n",
            "Epoch 18/30\n",
            "16/16 [==============================] - 10s 630ms/step - loss: 0.2060 - accuracy: 0.9380 - val_loss: 4.1499 - val_accuracy: 0.1000\n",
            "Epoch 19/30\n",
            "16/16 [==============================] - 11s 680ms/step - loss: 0.2114 - accuracy: 0.9420 - val_loss: 4.4052 - val_accuracy: 0.1000\n",
            "Epoch 20/30\n",
            "16/16 [==============================] - 11s 682ms/step - loss: 0.2341 - accuracy: 0.9280 - val_loss: 2.5066 - val_accuracy: 0.1000\n",
            "Epoch 21/30\n",
            "16/16 [==============================] - 10s 630ms/step - loss: 0.1956 - accuracy: 0.9420 - val_loss: 3.9275 - val_accuracy: 0.1000\n",
            "Epoch 22/30\n",
            "16/16 [==============================] - 10s 635ms/step - loss: 0.1568 - accuracy: 0.9540 - val_loss: 10.7115 - val_accuracy: 0.1000\n",
            "Epoch 23/30\n",
            "16/16 [==============================] - 10s 631ms/step - loss: 0.1723 - accuracy: 0.9500 - val_loss: 2.4978 - val_accuracy: 0.0920\n",
            "Epoch 24/30\n",
            "16/16 [==============================] - 10s 628ms/step - loss: 0.0945 - accuracy: 0.9620 - val_loss: 2.5991 - val_accuracy: 0.1000\n",
            "Epoch 25/30\n",
            "16/16 [==============================] - 11s 696ms/step - loss: 0.1024 - accuracy: 0.9640 - val_loss: 2.4345 - val_accuracy: 0.1000\n",
            "Epoch 26/30\n",
            "16/16 [==============================] - 10s 631ms/step - loss: 0.0709 - accuracy: 0.9820 - val_loss: 2.4844 - val_accuracy: 0.1000\n",
            "Epoch 27/30\n",
            "16/16 [==============================] - 11s 680ms/step - loss: 0.0658 - accuracy: 0.9780 - val_loss: 2.5659 - val_accuracy: 0.1000\n",
            "Epoch 28/30\n",
            "16/16 [==============================] - 10s 625ms/step - loss: 0.0583 - accuracy: 0.9840 - val_loss: 3.0203 - val_accuracy: 0.1000\n",
            "Epoch 29/30\n",
            "16/16 [==============================] - 11s 685ms/step - loss: 0.0379 - accuracy: 0.9900 - val_loss: 2.9373 - val_accuracy: 0.1000\n",
            "Epoch 30/30\n",
            "16/16 [==============================] - 10s 635ms/step - loss: 0.0513 - accuracy: 0.9840 - val_loss: 2.9706 - val_accuracy: 0.1000\n"
          ]
        }
      ]
    },
    {
      "cell_type": "markdown",
      "source": [
        "# Demonstrando resultado do modelo"
      ],
      "metadata": {
        "id": "O7A5oYKr9sqk"
      }
    },
    {
      "cell_type": "code",
      "source": [
        "# Avaliação do modelo\n",
        "test_loss, test_acc = model.evaluate(imagesTesting, labelsTesting)\n",
        "\n",
        "print('Acurácia final do modelo: %.2f%%' % (test_acc * 100))\n",
        "print('Perda final do modelo: %.2f%%' % (test_loss * 100))"
      ],
      "metadata": {
        "colab": {
          "base_uri": "https://localhost:8080/"
        },
        "id": "nRXz0R5g38Nz",
        "outputId": "76dca560-46dd-468a-da86-53aa9206f5f7"
      },
      "execution_count": 7,
      "outputs": [
        {
          "output_type": "stream",
          "name": "stdout",
          "text": [
            "47/47 [==============================] - 5s 95ms/step - loss: 2.9706 - accuracy: 0.1000\n",
            "Acurácia final do modelo: 10.00%\n",
            "Perda final do modelo: 297.06%\n"
          ]
        }
      ]
    },
    {
      "cell_type": "code",
      "source": [
        "plt.plot(history.history['accuracy'], label='accuracy')\n",
        "plt.plot(history.history['val_accuracy'], label = 'val_accuracy')\n",
        "plt.xlabel('Epoch')\n",
        "plt.ylabel('Accuracy')\n",
        "plt.ylim([0.05, 1])\n",
        "plt.legend(loc='lower right')"
      ],
      "metadata": {
        "colab": {
          "base_uri": "https://localhost:8080/",
          "height": 472
        },
        "id": "1booBhm67yCk",
        "outputId": "37a82416-11b6-49ef-dcac-8057a6460fc4"
      },
      "execution_count": 8,
      "outputs": [
        {
          "output_type": "execute_result",
          "data": {
            "text/plain": [
              "<matplotlib.legend.Legend at 0x7f3aaea8ab60>"
            ]
          },
          "metadata": {},
          "execution_count": 8
        },
        {
          "output_type": "display_data",
          "data": {
            "text/plain": [
              "<Figure size 640x480 with 1 Axes>"
            ],
            "image/png": "[encoded data removed]"
          },
          "metadata": {}
        }
      ]
    },
    {
      "cell_type": "code",
      "source": [
        "plt.plot(history.history['loss'], label='loss')\n",
        "plt.plot(history.history['val_loss'], label = 'val_loss')\n",
        "plt.xlabel('Epoch')\n",
        "plt.ylabel('loss')\n",
        "plt.ylim([0.05, 8])\n",
        "plt.legend(loc='lower right')"
      ],
      "metadata": {
        "colab": {
          "base_uri": "https://localhost:8080/",
          "height": 472
        },
        "id": "6xsjqVeq73e8",
        "outputId": "757b6746-29da-4ec6-e98b-b1bf4dfa20e1"
      },
      "execution_count": 11,
      "outputs": [
        {
          "output_type": "execute_result",
          "data": {
            "text/plain": [
              "<matplotlib.legend.Legend at 0x7f3ab1429720>"
            ]
          },
          "metadata": {},
          "execution_count": 11
        },
        {
          "output_type": "display_data",
          "data": {
            "text/plain": [
              "<Figure size 640x480 with 1 Axes>"
            ],
            "image/png": "[encoded data removed]"
          },
          "metadata": {}
        }
      ]
    },
    {
      "cell_type": "markdown",
      "source": [
        "# Salvando Modelo"
      ],
      "metadata": {
        "id": "ctIZIZn_-YU9"
      }
    },
    {
      "cell_type": "code",
      "source": [
        "# Salvar o modelo\n",
        "model.save('/content/drive/MyDrive/CNN_SOURCE/Modelos/cnn_modelo_densenet.h5')"
      ],
      "metadata": {
        "id": "qXYebMZA3-Lr"
      },
      "execution_count": 10,
      "outputs": []
    }
  ]
}