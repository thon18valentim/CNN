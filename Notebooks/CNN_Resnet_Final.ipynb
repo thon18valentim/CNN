{
  "nbformat": 4,
  "nbformat_minor": 0,
  "metadata": {
    "colab": {
      "provenance": [],
      "gpuType": "T4",
      "collapsed_sections": [
        "BtdLiZBwKcyh",
        "-AjMnaikIWE5"
      ]
    },
    "kernelspec": {
      "name": "python3",
      "display_name": "Python 3"
    },
    "language_info": {
      "name": "python"
    },
    "accelerator": "GPU"
  },
  "cells": [
    {
      "cell_type": "markdown",
      "source": [
        "# Imports"
      ],
      "metadata": {
        "id": "BtdLiZBwKcyh"
      }
    },
    {
      "cell_type": "code",
      "execution_count": 4,
      "metadata": {
        "colab": {
          "base_uri": "https://localhost:8080/"
        },
        "id": "93BZYA0bYtzw",
        "outputId": "83b76f49-3ab5-4e5a-859d-24e16b54b924"
      },
      "outputs": [
        {
          "output_type": "stream",
          "name": "stdout",
          "text": [
            "Drive already mounted at /content/drive; to attempt to forcibly remount, call drive.mount(\"/content/drive\", force_remount=True).\n"
          ]
        }
      ],
      "source": [
        "import tensorflow as tf\n",
        "import matplotlib.pyplot as plt\n",
        "import cv2\n",
        "import numpy as np\n",
        "import os\n",
        "from google.colab import drive\n",
        "from tensorflow.keras.models import Sequential\n",
        "from tensorflow.keras import layers, models\n",
        "from tensorflow.keras.models import Model\n",
        "from tensorflow.keras.models import load_model\n",
        "from sklearn.model_selection import train_test_split\n",
        "from tensorflow.keras.layers import Conv2D, BatchNormalization, Activation, Add, Input, MaxPooling2D, GlobalAveragePooling2D, Dense, MaxPool2D\n",
        "from tensorflow.keras.utils import to_categorical\n",
        "from keras.layers import ReLU, GlobalAvgPool2D, Dropout\n",
        "from tensorflow.keras.applications import ResNet50\n",
        "from tensorflow.keras.layers import Dense, GlobalAveragePooling2D\n",
        "from tensorflow.keras.models import Model\n",
        "from PIL import Image\n",
        "\n",
        "drive.mount('/content/drive')"
      ]
    },
    {
      "cell_type": "markdown",
      "source": [
        "Set up the testing images and the training images. Each images pass through a resize and normalization function."
      ],
      "metadata": {
        "id": "pGQWBBCkabNB"
      }
    },
    {
      "cell_type": "markdown",
      "source": [
        "# Lidando com as Imagens"
      ],
      "metadata": {
        "id": "-AjMnaikIWE5"
      }
    },
    {
      "cell_type": "code",
      "source": [
        "imagesTesting = []\n",
        "labelsTesting = []\n",
        "imagesTraining = []\n",
        "labelsTraining = []\n",
        "classLabels = ['barberry', 'bayberry', 'beach plum', 'bearberry', 'black berry', 'black cherry', 'blueberry', 'ceylon gooseberry', 'chokeberry', 'crowberry']\n",
        "\n",
        "target_size = (224, 224)\n",
        "\n",
        "\n",
        "def readTestingImages(i):\n",
        "    os.chdir('/content/drive/MyDrive/CNN_SOURCE/Testing/Testing')\n",
        "\n",
        "    for filename in os.listdir():\n",
        "        if filename.endswith(\".jpg\") or filename.endswith(\".png\"):\n",
        "            # Read Image\n",
        "            image = cv2.imread(filename)\n",
        "            image_rgb = cv2.cvtColor(image, cv2.COLOR_BGR2RGB)\n",
        "\n",
        "            # Resize the image\n",
        "            image_resized = cv2.resize(image_rgb, target_size)\n",
        "\n",
        "            # Normalize the image\n",
        "            image_normalized = image_resized / 255.0\n",
        "\n",
        "            if i < 150:\n",
        "              imagesTesting.append(image_normalized)\n",
        "\n",
        "            # Extract label from filename\n",
        "            labels = filename.rsplit(\"_\", 1)\n",
        "            label = labels[0].replace('_', ' ')\n",
        "\n",
        "            # Get the index of the label in classLabels\n",
        "            label_index = classLabels.index(label)\n",
        "\n",
        "            if i < 150:\n",
        "              labelsTesting.append(label_index)\n",
        "\n",
        "            i += 1\n",
        "            if i == 200:\n",
        "              i = 0\n",
        "\n",
        "i = 1\n",
        "def readTrainingImages(i):\n",
        "    os.chdir('/content/drive/MyDrive/CNN_SOURCE/Training/Training')\n",
        "\n",
        "    for filename in os.listdir():\n",
        "        if filename.endswith(\".jpg\") or filename.endswith(\".png\"):\n",
        "            # Read Image\n",
        "            image = cv2.imread(filename)\n",
        "            image_rgb = cv2.cvtColor(image, cv2.COLOR_BGR2RGB)\n",
        "\n",
        "            # Resize the image\n",
        "            image_resized = cv2.resize(image_rgb, target_size)\n",
        "\n",
        "            # Normalize the image\n",
        "            image_normalized = image_resized / 255.0\n",
        "\n",
        "            if i < 50:\n",
        "              imagesTraining.append(image_normalized)\n",
        "\n",
        "            # Extract label from filename\n",
        "            labels = filename.rsplit(\"_\", 1)\n",
        "            label = labels[0].replace('_', ' ')\n",
        "\n",
        "            # Get the index of the label in classLabels\n",
        "            label_index = classLabels.index(label)\n",
        "\n",
        "            if i < 50:\n",
        "              labelsTraining.append(label_index)\n",
        "\n",
        "            i += 1\n",
        "            if i == 200:\n",
        "              i = 0\n",
        "\n",
        "readTestingImages(1)\n",
        "readTrainingImages(1)"
      ],
      "metadata": {
        "id": "-oDqT_Y4aSDJ"
      },
      "execution_count": 5,
      "outputs": []
    },
    {
      "cell_type": "markdown",
      "source": [
        "Set up the CNN architecture\n",
        "\n",
        "We start with a architecture of 7 layers. 2 are convolutional layers. 2 are max-pooling layers, a layer to flatten the previous output into a 1D vector, and 2 connected layers (dense layers).\n",
        "\n",
        "**model = models.Sequential()**: this creates a sequential model, which is a linear stack of layers\n",
        "\n",
        "**model.add(layers.Vonc2D(32, (3, 3), activation='relu', input_shape=(224, 224, 3)))**: adds a 2D convolutional layer to the model with 32 filters. The number of filters determine the number of channels of the output feature maps. Each filter produces one feature map, and these feature maps collectively capture different aspects of the input data.\n",
        "\n",
        "**model.add(layers.MaxPooling2D((2, 2)))**: adds a max-pooling layer to the model with a pool size of 2x2. Max-pooling reduces the spatial dimensions of the feature maps.\n",
        "\n",
        "**model.add(layers.Flatten())**: this flattens the output of the previous layer into a 1D vector. This reshapes the multi-dimensional feature maps into a 1D vector that can be fed into the fully connected layer. Each element in the vector corresponds to a specific feature or activation in the feature map.\n",
        "\n",
        "**model.add(layers.Dense(64, activation='relu'))**: This adds a fully connected (dense) layer with 64 units and the ReLU activation function.\n",
        "\n",
        "**model.add(layers.Dense(10))**: This adds the final fully connected layer with 10 units. Since this is a classification problem with 10 classes, this layer will produce the output logits for each class."
      ],
      "metadata": {
        "id": "Xy_jTymkhLOE"
      }
    },
    {
      "cell_type": "markdown",
      "source": [
        "# Construindo Modelo"
      ],
      "metadata": {
        "id": "fownbo8Njocp"
      }
    },
    {
      "cell_type": "code",
      "source": [
        "model = Sequential()\n",
        "\n",
        "pretrained_model = tf.keras.applications.ResNet50(include_top=False, input_shape=(224,224,3), pooling='avg',classes=10, weights='imagenet')\n",
        "\n",
        "for layer in pretrained_model.layers:\n",
        "        layer.trainable=False\n",
        "\n",
        "model.add(pretrained_model)\n",
        "model.add(layers.Flatten())\n",
        "model.add(Dense(512, activation='relu'))\n",
        "model.add(Dense(10, activation='softmax'))"
      ],
      "metadata": {
        "id": "byy3tUVN29VB",
        "colab": {
          "base_uri": "https://localhost:8080/"
        },
        "outputId": "a16978c4-76a4-4716-cca5-2fb36eb99fce"
      },
      "execution_count": 6,
      "outputs": [
        {
          "output_type": "stream",
          "name": "stdout",
          "text": [
            "Downloading data from https://storage.googleapis.com/tensorflow/keras-applications/resnet/resnet50_weights_tf_dim_ordering_tf_kernels_notop.h5\n",
            "94765736/94765736 [==============================] - 3s 0us/step\n"
          ]
        }
      ]
    },
    {
      "cell_type": "markdown",
      "source": [
        "# Treinando Modelo"
      ],
      "metadata": {
        "id": "AVvhGAl1KVkI"
      }
    },
    {
      "cell_type": "code",
      "source": [
        "optimizer = tf.keras.optimizers.Adam(learning_rate=0.001)\n",
        "model.compile(optimizer=optimizer, loss='sparse_categorical_crossentropy', metrics=['accuracy'])\n",
        "history = model.fit(np.array(imagesTraining), np.array(labelsTraining), epochs=30, validation_data=(np.array(imagesTesting), np.array(labelsTesting)))"
      ],
      "metadata": {
        "colab": {
          "base_uri": "https://localhost:8080/"
        },
        "id": "NCB2fKID5lX6",
        "outputId": "78bc9e63-937e-40ea-f74d-6b8abb63daa5"
      },
      "execution_count": 7,
      "outputs": [
        {
          "output_type": "stream",
          "name": "stdout",
          "text": [
            "Epoch 1/30\n",
            "16/16 [==============================] - 25s 770ms/step - loss: 2.5510 - accuracy: 0.1080 - val_loss: 2.3474 - val_accuracy: 0.1400\n",
            "Epoch 2/30\n",
            "16/16 [==============================] - 7s 433ms/step - loss: 2.3241 - accuracy: 0.1200 - val_loss: 2.2942 - val_accuracy: 0.1333\n",
            "Epoch 3/30\n",
            "16/16 [==============================] - 6s 368ms/step - loss: 2.2572 - accuracy: 0.1820 - val_loss: 2.3619 - val_accuracy: 0.1140\n",
            "Epoch 4/30\n",
            "16/16 [==============================] - 7s 434ms/step - loss: 2.2721 - accuracy: 0.1620 - val_loss: 2.3525 - val_accuracy: 0.1293\n",
            "Epoch 5/30\n",
            "16/16 [==============================] - 7s 438ms/step - loss: 2.2529 - accuracy: 0.1540 - val_loss: 2.2913 - val_accuracy: 0.1327\n",
            "Epoch 6/30\n",
            "16/16 [==============================] - 6s 377ms/step - loss: 2.2607 - accuracy: 0.1780 - val_loss: 2.3095 - val_accuracy: 0.1667\n",
            "Epoch 7/30\n",
            "16/16 [==============================] - 7s 441ms/step - loss: 2.2055 - accuracy: 0.1760 - val_loss: 2.3048 - val_accuracy: 0.1760\n",
            "Epoch 8/30\n",
            "16/16 [==============================] - 6s 373ms/step - loss: 2.2175 - accuracy: 0.1760 - val_loss: 2.3312 - val_accuracy: 0.1627\n",
            "Epoch 9/30\n",
            "16/16 [==============================] - 7s 439ms/step - loss: 2.1724 - accuracy: 0.2060 - val_loss: 2.2583 - val_accuracy: 0.1887\n",
            "Epoch 10/30\n",
            "16/16 [==============================] - 7s 436ms/step - loss: 2.1517 - accuracy: 0.2140 - val_loss: 2.2597 - val_accuracy: 0.1900\n",
            "Epoch 11/30\n",
            "16/16 [==============================] - 7s 441ms/step - loss: 2.1161 - accuracy: 0.2560 - val_loss: 2.2936 - val_accuracy: 0.1600\n",
            "Epoch 12/30\n",
            "16/16 [==============================] - 6s 379ms/step - loss: 2.1441 - accuracy: 0.2060 - val_loss: 2.2921 - val_accuracy: 0.1867\n",
            "Epoch 13/30\n",
            "16/16 [==============================] - 6s 388ms/step - loss: 2.1225 - accuracy: 0.2340 - val_loss: 2.2464 - val_accuracy: 0.2073\n",
            "Epoch 14/30\n",
            "16/16 [==============================] - 6s 383ms/step - loss: 2.1136 - accuracy: 0.2260 - val_loss: 2.2591 - val_accuracy: 0.1947\n",
            "Epoch 15/30\n",
            "16/16 [==============================] - 7s 438ms/step - loss: 2.0881 - accuracy: 0.2560 - val_loss: 2.2014 - val_accuracy: 0.2273\n",
            "Epoch 16/30\n",
            "16/16 [==============================] - 6s 386ms/step - loss: 2.0576 - accuracy: 0.2980 - val_loss: 2.2475 - val_accuracy: 0.2067\n",
            "Epoch 17/30\n",
            "16/16 [==============================] - 7s 439ms/step - loss: 2.0721 - accuracy: 0.2780 - val_loss: 2.2676 - val_accuracy: 0.1967\n",
            "Epoch 18/30\n",
            "16/16 [==============================] - 7s 439ms/step - loss: 2.0781 - accuracy: 0.2680 - val_loss: 2.2711 - val_accuracy: 0.1900\n",
            "Epoch 19/30\n",
            "16/16 [==============================] - 7s 438ms/step - loss: 2.0634 - accuracy: 0.2720 - val_loss: 2.2742 - val_accuracy: 0.2033\n",
            "Epoch 20/30\n",
            "16/16 [==============================] - 7s 439ms/step - loss: 2.0206 - accuracy: 0.2880 - val_loss: 2.1959 - val_accuracy: 0.2027\n",
            "Epoch 21/30\n",
            "16/16 [==============================] - 6s 388ms/step - loss: 1.9931 - accuracy: 0.2940 - val_loss: 2.2409 - val_accuracy: 0.1960\n",
            "Epoch 22/30\n",
            "16/16 [==============================] - 7s 442ms/step - loss: 2.0090 - accuracy: 0.2880 - val_loss: 2.2570 - val_accuracy: 0.1507\n",
            "Epoch 23/30\n",
            "16/16 [==============================] - 7s 437ms/step - loss: 2.0159 - accuracy: 0.2920 - val_loss: 2.2753 - val_accuracy: 0.1660\n",
            "Epoch 24/30\n",
            "16/16 [==============================] - 7s 439ms/step - loss: 1.9945 - accuracy: 0.2660 - val_loss: 2.2460 - val_accuracy: 0.1987\n",
            "Epoch 25/30\n",
            "16/16 [==============================] - 7s 437ms/step - loss: 1.9241 - accuracy: 0.3600 - val_loss: 2.2085 - val_accuracy: 0.2133\n",
            "Epoch 26/30\n",
            "16/16 [==============================] - 6s 387ms/step - loss: 1.9331 - accuracy: 0.3480 - val_loss: 2.2085 - val_accuracy: 0.2200\n",
            "Epoch 27/30\n",
            "16/16 [==============================] - 7s 438ms/step - loss: 1.9301 - accuracy: 0.3320 - val_loss: 2.2638 - val_accuracy: 0.1807\n",
            "Epoch 28/30\n",
            "16/16 [==============================] - 6s 388ms/step - loss: 1.9221 - accuracy: 0.3520 - val_loss: 2.2264 - val_accuracy: 0.2013\n",
            "Epoch 29/30\n",
            "16/16 [==============================] - 7s 438ms/step - loss: 1.9749 - accuracy: 0.2920 - val_loss: 2.1629 - val_accuracy: 0.2133\n",
            "Epoch 30/30\n",
            "16/16 [==============================] - 7s 443ms/step - loss: 1.8945 - accuracy: 0.3540 - val_loss: 2.2300 - val_accuracy: 0.2467\n"
          ]
        }
      ]
    },
    {
      "cell_type": "markdown",
      "source": [
        "# Avaliação do Modelo"
      ],
      "metadata": {
        "id": "L6Ny0QuW6ogY"
      }
    },
    {
      "cell_type": "code",
      "source": [
        "imagesTesting = np.array(imagesTesting).astype('float32')\n",
        "labelsTesting = np.array(labelsTesting)\n",
        "\n",
        "# Avaliação do modelo\n",
        "test_loss, test_acc = model.evaluate(imagesTesting, labelsTesting)\n",
        "print('Acurácia final do modelo: %.2f%%' % (test_acc * 100))"
      ],
      "metadata": {
        "id": "mvlUzRpqlb11",
        "colab": {
          "base_uri": "https://localhost:8080/"
        },
        "outputId": "2c623b5a-5b41-4b71-e7b5-e657f14e8dc2"
      },
      "execution_count": 11,
      "outputs": [
        {
          "output_type": "stream",
          "name": "stdout",
          "text": [
            "47/47 [==============================] - 5s 97ms/step - loss: 3.0247 - accuracy: 0.1000\n",
            "Acurácia final do modelo: 10.00%\n"
          ]
        }
      ]
    },
    {
      "cell_type": "code",
      "source": [
        "plt.plot(history.history['accuracy'], label='accuracy')\n",
        "plt.plot(history.history['val_accuracy'], label = 'val_accuracy')\n",
        "plt.xlabel('Epoch')\n",
        "plt.ylabel('Accuracy')\n",
        "plt.ylim([0.05, 1])\n",
        "plt.legend(loc='lower right')"
      ],
      "metadata": {
        "id": "vUT_636G5Go_",
        "colab": {
          "base_uri": "https://localhost:8080/",
          "height": 472
        },
        "outputId": "e14d699a-fa7f-4598-85d9-9cb7d9cb5914"
      },
      "execution_count": 12,
      "outputs": [
        {
          "output_type": "execute_result",
          "data": {
            "text/plain": [
              "<matplotlib.legend.Legend at 0x7f14b032ae30>"
            ]
          },
          "metadata": {},
          "execution_count": 12
        },
        {
          "output_type": "display_data",
          "data": {
            "text/plain": [
              "<Figure size 640x480 with 1 Axes>"
            ],
            "image/png": "[encoded data removed]"
          },
          "metadata": {}
        }
      ]
    },
    {
      "cell_type": "code",
      "source": [
        "plt.plot(history.history['loss'], label='loss')\n",
        "plt.plot(history.history['val_loss'], label = 'val_loss')\n",
        "plt.xlabel('Epoch')\n",
        "plt.ylabel('loss')\n",
        "plt.ylim([0.1, 5])\n",
        "plt.legend(loc='lower right')"
      ],
      "metadata": {
        "id": "MSt_hlal61UI",
        "colab": {
          "base_uri": "https://localhost:8080/",
          "height": 472
        },
        "outputId": "4680486a-276d-4e0c-890a-dff5ad48e045"
      },
      "execution_count": 15,
      "outputs": [
        {
          "output_type": "execute_result",
          "data": {
            "text/plain": [
              "<matplotlib.legend.Legend at 0x7f137a4cfb20>"
            ]
          },
          "metadata": {},
          "execution_count": 15
        },
        {
          "output_type": "display_data",
          "data": {
            "text/plain": [
              "<Figure size 640x480 with 1 Axes>"
            ],
            "image/png": "[encoded data removed]"
          },
          "metadata": {}
        }
      ]
    },
    {
      "cell_type": "markdown",
      "source": [
        "# Salvando Modelo"
      ],
      "metadata": {
        "id": "BedXIqGH4s7v"
      }
    },
    {
      "cell_type": "code",
      "source": [
        "# Salvar o modelo\n",
        "model.save('/content/drive/MyDrive/CNN_SOURCE/Modelos/cnn_modelo_resnet.h5')"
      ],
      "metadata": {
        "id": "2HG-Up6iITkp"
      },
      "execution_count": 16,
      "outputs": []
    }
  ]
}